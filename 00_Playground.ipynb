{
  "nbformat": 4,
  "nbformat_minor": 0,
  "metadata": {
    "colab": {
      "name": "00-Playground.ipynb",
      "provenance": [],
      "collapsed_sections": [],
      "authorship_tag": "ABX9TyMG0gnE6E+RG+cY8Z2+YaBu",
      "include_colab_link": true
    },
    "kernelspec": {
      "name": "python3",
      "display_name": "Python 3"
    }
  },
  "cells": [
    {
      "cell_type": "markdown",
      "metadata": {
        "id": "view-in-github",
        "colab_type": "text"
      },
      "source": [
        "<a href=\"https://colab.research.google.com/github/danielpy108/PytorchTutorial/blob/master/00_Playground.ipynb\" target=\"_parent\"><img src=\"https://colab.research.google.com/assets/colab-badge.svg\" alt=\"Open In Colab\"/></a>"
      ]
    },
    {
      "cell_type": "markdown",
      "metadata": {
        "id": "TWtkgaJLTnY_",
        "colab_type": "text"
      },
      "source": [
        "# Playground\n",
        "\n",
        "This playground is meant to be for playing with the pytorch framework."
      ]
    },
    {
      "cell_type": "code",
      "metadata": {
        "id": "J7mH0RbJT3eq",
        "colab_type": "code",
        "colab": {}
      },
      "source": [
        "import torch\n",
        "import numpy as np"
      ],
      "execution_count": 0,
      "outputs": []
    },
    {
      "cell_type": "code",
      "metadata": {
        "id": "yU58vurbT6fD",
        "colab_type": "code",
        "colab": {
          "base_uri": "https://localhost:8080/",
          "height": 476
        },
        "outputId": "1187d0c7-700d-453d-b1df-635ce48f3a40"
      },
      "source": [
        "# Creating tensors\n",
        "t0 = torch.tensor(1)\n",
        "t1 = torch.tensor([1, 2, 3, 4, 5, 6])\n",
        "t2 = torch.tensor([[1, 2, 3], [4, 5, 6]])\n",
        "t3 = torch.tensor([[[1, 2], [3, 4], [5, 6]]])\n",
        "\n",
        "print(f\"Scalar:\")\n",
        "print(t0)\n",
        "print(f\"shape:\\t {t0.shape}\")\n",
        "print(f\"size:\\t {t0.size()}\")\n",
        "print(f\"dim:\\t {t0.dim()}\\n\")\n",
        "\n",
        "print(f\"Vector:\")\n",
        "print(t1)\n",
        "print(f\"shape:\\t {t1.shape}\")\n",
        "print(f\"size:\\t {t1.size()}\")\n",
        "print(f\"dim:\\t {t1.dim()}\\n\")\n",
        "\n",
        "print(f\"Matrix:\")\n",
        "print(t2)\n",
        "print(f\"shape:\\t {t2.shape}\")\n",
        "print(f\"size:\\t {t2.size()}\")\n",
        "print(f\"dim:\\t {t2.dim()}\\n\")\n",
        "\n",
        "print(f\"Tensor:\")\n",
        "print(t3)\n",
        "print(f\"shape:\\t {t3.shape}\")\n",
        "print(f\"size:\\t {t3.size()}\")\n",
        "print(f\"dim:\\t {t3.dim()}\\n\")"
      ],
      "execution_count": 23,
      "outputs": [
        {
          "output_type": "stream",
          "text": [
            "Scalar:\n",
            "tensor(1)\n",
            "shape:\t torch.Size([])\n",
            "size:\t torch.Size([])\n",
            "dim:\t 0\n",
            "\n",
            "Vector:\n",
            "tensor([1, 2, 3, 4, 5, 6])\n",
            "shape:\t torch.Size([6])\n",
            "size:\t torch.Size([6])\n",
            "dim:\t 1\n",
            "\n",
            "Matrix:\n",
            "tensor([[1, 2, 3],\n",
            "        [4, 5, 6]])\n",
            "shape:\t torch.Size([2, 3])\n",
            "size:\t torch.Size([2, 3])\n",
            "dim:\t 2\n",
            "\n",
            "Tensor:\n",
            "tensor([[[1, 2],\n",
            "         [3, 4],\n",
            "         [5, 6]]])\n",
            "shape:\t torch.Size([1, 3, 2])\n",
            "size:\t torch.Size([1, 3, 2])\n",
            "dim:\t 3\n",
            "\n"
          ],
          "name": "stdout"
        }
      ]
    },
    {
      "cell_type": "code",
      "metadata": {
        "id": "4pGEe1v_V7Uq",
        "colab_type": "code",
        "colab": {
          "base_uri": "https://localhost:8080/",
          "height": 510
        },
        "outputId": "a69b8bd1-2385-4f9a-cea2-250bda65b77e"
      },
      "source": [
        "# Creating more tensors\n",
        "\n",
        "array = np.random.rand(1, 5)\n",
        "\n",
        "print(f\"{torch.from_numpy(array)}\\n\")\n",
        "print(f\"{torch.rand(size=(3,3), dtype=torch.float64)}\\n\")\n",
        "print(f\"{torch.randn(size=(3,3), dtype=torch.double)}\\n\")\n",
        "print(f\"{torch.randint(low=-5, high=5, size=(2, 3, 2))}\\n\")\n",
        "print(f\"{torch.arange(start=-3, end=1, step=0.5)}\\n\")\n",
        "print(f\"{torch.ones(size=(1, 4), dtype=torch.int8)}\\n\")\n",
        "print(f\"{torch.zeros(size=(1, 4), dtype=torch.float)}\\n\")\n",
        "print(f\"{torch.full(size=(3,3), fill_value=-1, dtype=torch.float)}\\n\")\n",
        "print(f\"{torch.randperm(10)}\")"
      ],
      "execution_count": 87,
      "outputs": [
        {
          "output_type": "stream",
          "text": [
            "tensor([[0.0504, 0.5402, 0.0542, 0.9279, 0.8893]], dtype=torch.float64)\n",
            "\n",
            "tensor([[0.0627, 0.8861, 0.8400],\n",
            "        [0.5174, 0.6791, 0.1740],\n",
            "        [0.8459, 0.8922, 0.3019]], dtype=torch.float64)\n",
            "\n",
            "tensor([[ 0.1674,  1.2729,  0.4745],\n",
            "        [-1.1291,  0.7985, -0.2379],\n",
            "        [-0.7141,  0.6781,  1.3394]], dtype=torch.float64)\n",
            "\n",
            "tensor([[[-3,  0],\n",
            "         [-2,  2],\n",
            "         [-4, -2]],\n",
            "\n",
            "        [[ 4, -4],\n",
            "         [ 4, -3],\n",
            "         [ 3,  3]]])\n",
            "\n",
            "tensor([-3.0000, -2.5000, -2.0000, -1.5000, -1.0000, -0.5000,  0.0000,  0.5000])\n",
            "\n",
            "tensor([[1, 1, 1, 1]], dtype=torch.int8)\n",
            "\n",
            "tensor([[0., 0., 0., 0.]])\n",
            "\n",
            "tensor([[-1., -1., -1.],\n",
            "        [-1., -1., -1.],\n",
            "        [-1., -1., -1.]])\n",
            "\n",
            "tensor([1, 8, 4, 3, 9, 0, 2, 7, 5, 6])\n"
          ],
          "name": "stdout"
        }
      ]
    },
    {
      "cell_type": "code",
      "metadata": {
        "id": "0KSS4vD9Ya8O",
        "colab_type": "code",
        "colab": {
          "base_uri": "https://localhost:8080/",
          "height": 391
        },
        "outputId": "b5272d1a-0a47-4f20-8361-4375b85ac725"
      },
      "source": [
        "# Tensor rezising\n",
        "print(f\"Original tensor:\\t {t1}\\n\")\n",
        "print(\"Reshape 1: to matrix\")\n",
        "print(f\"{t1.reshape(2,3)}\\n\")\n",
        "print(\"Reshape 2: to tensor\")\n",
        "print(f\"{t1.reshape(2, 1, 3)}\\n\")\n",
        "print(\"Reshape 3: add one dimenssion\")\n",
        "print(f\"{t1.reshape(1, -1)}\\n\")\n",
        "print(\"Reshape 4: turn to column vector\")\n",
        "print(f\"{t1.reshape(-1, 1)}\\n\")"
      ],
      "execution_count": 73,
      "outputs": [
        {
          "output_type": "stream",
          "text": [
            "Original tensor:\t tensor([1, 2, 3, 4, 5, 6])\n",
            "\n",
            "Reshape 1: to matrix\n",
            "tensor([[1, 2, 3],\n",
            "        [4, 5, 6]])\n",
            "\n",
            "Reshape 2: to tensor\n",
            "tensor([[[1, 2, 3]],\n",
            "\n",
            "        [[4, 5, 6]]])\n",
            "\n",
            "Reshape 3: add one dimenssion\n",
            "tensor([[1, 2, 3, 4, 5, 6]])\n",
            "\n",
            "Reshape 4: turn to column vector\n",
            "tensor([[1],\n",
            "        [2],\n",
            "        [3],\n",
            "        [4],\n",
            "        [5],\n",
            "        [6]])\n",
            "\n"
          ],
          "name": "stdout"
        }
      ]
    },
    {
      "cell_type": "code",
      "metadata": {
        "id": "_2i83kiVZagy",
        "colab_type": "code",
        "colab": {
          "base_uri": "https://localhost:8080/",
          "height": 493
        },
        "outputId": "012c3eeb-0267-4857-f76d-841ec4129b4e"
      },
      "source": [
        "# Tensor rezising\n",
        "print(f\"Original tensor:\\n{t2}\\n\")\n",
        "print(\"Reshape 1: collapse dim\")\n",
        "print(f\"{t2.reshape(1, -1)}\\n\")\n",
        "print(\"Reshape 2: to column vector\")\n",
        "print(f\"{t2.reshape(-1, 1)}\\n\")\n",
        "print(\"Reshape 3: to row vector\")\n",
        "print(f\"{t2.reshape(-1, 1).T[0]}\\n\")\n",
        "print(\"Reshape 4: to row vector\")\n",
        "print(f\"{t2.reshape(-1, 1).T[0]}\\n\")\n",
        "\n",
        "print(\"Squeeze\")\n",
        "print(f\"{torch.squeeze(t2, dim=0)}\\n\")\n",
        "print(f\"{torch.squeeze(t2, dim=-1)}\\n\")"
      ],
      "execution_count": 80,
      "outputs": [
        {
          "output_type": "stream",
          "text": [
            "Original tensor:\n",
            "tensor([[1, 2, 3],\n",
            "        [4, 5, 6]])\n",
            "\n",
            "Reshape 1: collapse dim\n",
            "tensor([[1, 2, 3, 4, 5, 6]])\n",
            "\n",
            "Reshape 2: to column vector\n",
            "tensor([[1],\n",
            "        [2],\n",
            "        [3],\n",
            "        [4],\n",
            "        [5],\n",
            "        [6]])\n",
            "\n",
            "Reshape 3: to row vector\n",
            "tensor([1, 2, 3, 4, 5, 6])\n",
            "\n",
            "Reshape 4: to row vector\n",
            "tensor([1, 2, 3, 4, 5, 6])\n",
            "\n",
            "Squeeze\n",
            "tensor([[1, 2, 3],\n",
            "        [4, 5, 6]])\n",
            "\n",
            "tensor([[1, 2, 3],\n",
            "        [4, 5, 6]])\n",
            "\n"
          ],
          "name": "stdout"
        }
      ]
    }
  ]
}