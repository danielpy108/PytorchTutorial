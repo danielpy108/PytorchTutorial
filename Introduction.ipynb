{
 "cells": [
  {
   "cell_type": "markdown",
   "metadata": {},
   "source": [
    "# Introduction to PyTorch\n",
    "\n",
    "Welcome to this pytorch tutorial.\n",
    "\n",
    "All of the work done here is teached at: [https://www.youtube.com/watch?v=GIsg-ZUy0MY&t=14882s]"
   ]
  },
  {
   "cell_type": "code",
   "execution_count": 1,
   "metadata": {},
   "outputs": [],
   "source": [
    "# Display URLs content\n",
    "from jinja2 import Template\n",
    "from IPython.display import IFrame\n",
    "from IPython.core.display import display, HTML"
   ]
  },
  {
   "cell_type": "code",
   "execution_count": 19,
   "metadata": {},
   "outputs": [],
   "source": [
    "import torch\n",
    "import numpy as np\n",
    "import pandas as pd"
   ]
  },
  {
   "cell_type": "markdown",
   "metadata": {},
   "source": [
    "## What is PyTorch?"
   ]
  },
  {
   "cell_type": "code",
   "execution_count": 30,
   "metadata": {},
   "outputs": [
    {
     "data": {
      "text/html": [
       "\n",
       "        <iframe\n",
       "            width=\"1550\"\n",
       "            height=\"450\"\n",
       "            src=\"https://en.wikipedia.org/wiki/PyTorch\"\n",
       "            frameborder=\"0\"\n",
       "            allowfullscreen\n",
       "        ></iframe>\n",
       "        "
      ],
      "text/plain": [
       "<IPython.lib.display.IFrame at 0x7f38180b8190>"
      ]
     },
     "execution_count": 30,
     "metadata": {},
     "output_type": "execute_result"
    }
   ],
   "source": [
    "IFrame('https://en.wikipedia.org/wiki/PyTorch', width=1550, height=450)"
   ]
  },
  {
   "cell_type": "markdown",
   "metadata": {},
   "source": [
    "## Creating Tensors\n",
    "\n",
    "In short terms, a tensor is a generalization of a matrix or in other words, is a n-dimensional array.\n",
    "\n",
    "A key concept about the tensors is the _rank_, it means the dimension of the vector:\n",
    "\n",
    "<div>\n",
    "<ul>\n",
    "    <li> Scalar: rank 0 </li>\n",
    "    <li> Vector: rank 1 </li>\n",
    "    <li> Matrix: rank 2 </li>\n",
    "    <li> Tensor: rank n </li>\n",
    "</ul>\n",
    "</div>"
   ]
  },
  {
   "cell_type": "code",
   "execution_count": 4,
   "metadata": {},
   "outputs": [
    {
     "name": "stdout",
     "output_type": "stream",
     "text": [
      "-----> Tensors <-----\n",
      "\t>> 1.0\n",
      "\t\tRank:\t0\n",
      "\t\tType:\ttorch.float32\n",
      "\t\tShape:\ttorch.Size([])\n",
      "\t\tN. Elements:\t1\n",
      "\t>> [1. 2. 3. 4. 5. 6.]\n",
      "\t\tRank:\t1\n",
      "\t\tType:\ttorch.float64\n",
      "\t\tShape:\ttorch.Size([6])\n",
      "\t\tN. Elements:\t6\n",
      "\t>> [[1. 2. 3.]\n",
      " [4. 5. 6.]]\n",
      "\t\tRank:\t2\n",
      "\t\tType:\ttorch.float64\n",
      "\t\tShape:\ttorch.Size([2, 3])\n",
      "\t\tN. Elements:\t6\n",
      "\t>> [[[1 1]\n",
      "  [1 1]\n",
      "  [1 1]]]\n",
      "\t\tRank:\t3\n",
      "\t\tType:\ttorch.int8\n",
      "\t\tShape:\ttorch.Size([1, 3, 2])\n",
      "\t\tN. Elements:\t6\n"
     ]
    }
   ],
   "source": [
    "from torch import tensor\n",
    "\n",
    "# We create several tensors\n",
    "t0 = tensor(1.0)\n",
    "t1 = tensor([1., 2., 3., 4., 5., 6.], dtype=torch.float64)\n",
    "t2 = tensor([[1, 2, 3], [4, 5, 6]], dtype=torch.double)\n",
    "t3 = tensor([[[1, 1], [1, 1], [1, 1]]], dtype=torch.int8)\n",
    "\n",
    "tensors = [t0, t1, t2, t3]\n",
    "\n",
    "print(\"-----> Tensors <-----\")\n",
    "for t in tensors:\n",
    "    print(f\"\\t>> {np.array(t)}\")\n",
    "    print(f\"\\t\\tRank:\\t{t.dim()}\")\n",
    "    print(f\"\\t\\tType:\\t{t.dtype}\")\n",
    "    print(f\"\\t\\tShape:\\t{t.size()}\")\n",
    "    print(f\"\\t\\tN. Elements:\\t{t.numel()}\")"
   ]
  },
  {
   "cell_type": "code",
   "execution_count": 5,
   "metadata": {},
   "outputs": [
    {
     "data": {
      "text/html": [
       "\n",
       "<html>\n",
       "<big> This is fucking PyTorch </big>\n",
       "<hr/>\n",
       "<h3> Tensors </h3>\n",
       "    <ul>\n",
       "        \n",
       "            <li> tensor(1.)  </li>\n",
       "            <ul>\n",
       "                <li> Rank = 0 </li>\n",
       "                <li> Size = torch.Size([]) </li>\n",
       "                <li> Type = torch.float32 </li>\n",
       "                <li> Number of elements = 1\n",
       "            </ul>\n",
       "        \n",
       "            <li> tensor([1., 2., 3., 4., 5., 6.], dtype=torch.float64)  </li>\n",
       "            <ul>\n",
       "                <li> Rank = 1 </li>\n",
       "                <li> Size = torch.Size([6]) </li>\n",
       "                <li> Type = torch.float64 </li>\n",
       "                <li> Number of elements = 6\n",
       "            </ul>\n",
       "        \n",
       "            <li> tensor([[1., 2., 3.],\n",
       "        [4., 5., 6.]], dtype=torch.float64)  </li>\n",
       "            <ul>\n",
       "                <li> Rank = 2 </li>\n",
       "                <li> Size = torch.Size([2, 3]) </li>\n",
       "                <li> Type = torch.float64 </li>\n",
       "                <li> Number of elements = 6\n",
       "            </ul>\n",
       "        \n",
       "            <li> tensor([[[1, 1],\n",
       "         [1, 1],\n",
       "         [1, 1]]], dtype=torch.int8)  </li>\n",
       "            <ul>\n",
       "                <li> Rank = 3 </li>\n",
       "                <li> Size = torch.Size([1, 3, 2]) </li>\n",
       "                <li> Type = torch.int8 </li>\n",
       "                <li> Number of elements = 6\n",
       "            </ul>\n",
       "        \n",
       "    </ul>\n",
       "</html>"
      ],
      "text/plain": [
       "<IPython.core.display.HTML object>"
      ]
     },
     "metadata": {},
     "output_type": "display_data"
    }
   ],
   "source": [
    "template = Template(\n",
    "\"\"\"\n",
    "<html>\n",
    "<big> This is fucking {{ whoami }} </big>\n",
    "<hr/>\n",
    "<h3> Tensors </h3>\n",
    "    <ul>\n",
    "        {% for t in tensors %}\n",
    "            <li> {{ t }}  </li>\n",
    "            <ul>\n",
    "                <li> Rank = {{ t.dim() }} </li>\n",
    "                <li> Size = {{ t.size() }} </li>\n",
    "                <li> Type = {{ t.dtype }} </li>\n",
    "                <li> Number of elements = {{ t.numel() }}\n",
    "            </ul>\n",
    "        {% endfor %}\n",
    "    </ul>\n",
    "</html>\n",
    "\"\"\")\n",
    "\n",
    "display(HTML(template.render({\n",
    "    \"whoami\": \"PyTorch\",\n",
    "    \"tensors\": tensors\n",
    "})))"
   ]
  },
  {
   "cell_type": "markdown",
   "metadata": {},
   "source": [
    "## Tensor Arithmetic"
   ]
  },
  {
   "cell_type": "code",
   "execution_count": 6,
   "metadata": {},
   "outputs": [],
   "source": [
    "# Basic arithmetic and tensor operations\n",
    "\n",
    "\n",
    "t1 = tensor([1, 1, 1, 1])\n",
    "t2 = tensor([1, 2, 3, 4])\n",
    "\n",
    "add = torch.add(t1, t2)\n",
    "'''\n",
    "    add = t1 + t2 + ... + tn\n",
    "'''\n",
    "\n",
    "subs = torch.add(t1, -t2)\n",
    "\n",
    "times = torch.matmul(t1, t2)\n",
    "'''\n",
    "    times = t1 @ t2\n",
    "'''\n",
    "transpose = t1.T\n",
    "\n",
    "dot = torch.dot(t1.T, t2)\n",
    "\n"
   ]
  },
  {
   "cell_type": "code",
   "execution_count": 7,
   "metadata": {},
   "outputs": [
    {
     "data": {
      "text/html": [
       "\n",
       "<html>\n",
       "<h3> Binary and Unary operators </h3>\n",
       "    \n",
       "    <strong>Tensor 1:</strong> tensor([1, 1, 1, 1])\n",
       "    <br/>\n",
       "    <strong>Tensor 2:</strong> tensor([1, 2, 3, 4])\n",
       "    \n",
       "    <ul>\n",
       "        <li> Addition:<br/> tensor([2, 3, 4, 5]) </li>\n",
       "        <li> Substration:<br/> tensor([ 0, -1, -2, -3]) </li>\n",
       "        <li> Multiplication:<br/> tensor(10) </li>\n",
       "        <li> Transpose:<br/> tensor([1, 1, 1, 1]) </li>\n",
       "        <li> Dot product:<br/> tensor(10) </li>\n",
       "    </ul>\n",
       "</html>"
      ],
      "text/plain": [
       "<IPython.core.display.HTML object>"
      ]
     },
     "metadata": {},
     "output_type": "display_data"
    }
   ],
   "source": [
    "template = Template(\n",
    "\"\"\"\n",
    "<html>\n",
    "<h3> Binary and Unary operators </h3>\n",
    "    \n",
    "    <strong>Tensor 1:</strong> {{ t1 }}\n",
    "    <br/>\n",
    "    <strong>Tensor 2:</strong> {{ t2 }}\n",
    "    \n",
    "    <ul>\n",
    "        <li> Addition:<br/> {{ add }} </li>\n",
    "        <li> Substration:<br/> {{ subs }} </li>\n",
    "        <li> Multiplication:<br/> {{ times }} </li>\n",
    "        <li> Transpose:<br/> {{ transpose }} </li>\n",
    "        <li> Dot product:<br/> {{ dot }} </li>\n",
    "    </ul>\n",
    "</html>\n",
    "\"\"\")\n",
    "\n",
    "display(HTML(template.render({\n",
    "    \"t1\": t1,\n",
    "    \"t2\": t2,\n",
    "    \"add\": add,\n",
    "    \"subs\": subs,\n",
    "    \"times\": times,\n",
    "    \"transpose\": transpose,\n",
    "    \"dot\": dot\n",
    "})))"
   ]
  },
  {
   "cell_type": "markdown",
   "metadata": {},
   "source": [
    "## Tensor Gradients\n",
    "\n",
    "Since we are interested in not only using tensors but mainly in creating an artificial neural network, for the network to be trained it needs to readjust its weights\n",
    "every time there's an error in the outputs via the backpropagation algorithm.\n",
    "\n",
    "Backpropagations means computing the gradient (partial derivative) of the _loss function_ with respect to the _network weights_. \n",
    "\n",
    "Symbolically: $$\\frac{\\delta{J}}{\\delta\\theta}$$\n",
    "\n",
    "When we want to compute the __Gradient__ of a tensor, we pass as parameter to torch.tensor function the keyword argument _requires\\_grad=True_.\n",
    "\n",
    "In the basic model:\n",
    "\n",
    "$ y = Wx + b$ \n",
    "\n",
    "where $W\\in{R^{n,m}}$, \n",
    "\n",
    "$b\\in{R^{m}}$\n",
    "\n",
    "and $x\\in{R^{m}}$\n",
    "\n",
    "When we compute the gradient of $y$ with respect to the parameters $W$ and $b$, we get:\n",
    "\n",
    "$$ \\frac{\\delta{y}}{\\delta{W_i}} = x_i $$\n",
    "\n",
    "$$ \\frac{\\delta{y}}{\\delta{b}} = 1 $$"
   ]
  },
  {
   "cell_type": "code",
   "execution_count": 11,
   "metadata": {},
   "outputs": [
    {
     "name": "stdout",
     "output_type": "stream",
     "text": [
      "tensor([5.], grad_fn=<AddBackward0>)\n"
     ]
    }
   ],
   "source": [
    "# We can use combinations of those operations\n",
    "# For example, in Artificial Neural Networks the firing of\n",
    "# a neuron can be represented as:\n",
    "\n",
    "Weights = tensor([[1, 0, -1]], dtype=torch.float, requires_grad=True)\n",
    "x = tensor([3, -1, -1], dtype=torch.float)\n",
    "bias = tensor(1, dtype=torch.float, requires_grad=True)\n",
    "\n",
    "\n",
    "output = Weights@x + bias\n",
    "\n",
    "print(output)"
   ]
  },
  {
   "cell_type": "code",
   "execution_count": 12,
   "metadata": {},
   "outputs": [
    {
     "name": "stdout",
     "output_type": "stream",
     "text": [
      "Weight Grad dO/dW = tensor([[ 3., -1., -1.]])\n",
      "Bias Grad dO/db = 1.0\n"
     ]
    }
   ],
   "source": [
    "# When the output variable is calculated, then\n",
    "# we can compute the gradient of that variable\n",
    "# respect to the tensors that requires the grad\n",
    "output.backward()\n",
    "\n",
    "print(f\"Weight Grad dO/dW = {Weights.grad}\")\n",
    "print(f\"Bias Grad dO/db = {bias.grad}\")"
   ]
  },
  {
   "cell_type": "markdown",
   "metadata": {},
   "source": [
    "# Basic Machine Learning Algorithms\n",
    "\n",
    "We'll cover:\n",
    "\n",
    "+ Linear Regression\n",
    "+ Neural Networks"
   ]
  },
  {
   "cell_type": "markdown",
   "metadata": {},
   "source": [
    "## Linear Regression \n",
    "\n",
    "Make predictions about crop yields in terms of the change of temperature, rainfall and humidity.\n",
    "\n",
    "In linear regresion, we assume that the output variable is a linear function of the parameters. This means, that a hyperplane is adjusted to the data by reducing an error function (tipically Mean Squared Error) comparing the target's value and the model's predicetd value.\n",
    "\n",
    "### What LR is\n",
    "\n",
    "Make a prediction by multiplying the weights and the input vector then adding the bias vector.\n",
    "\n",
    "$$ y_i = \\sum_{j=1}^{N} W_{ij}x_{j} + b_i $$\n",
    "\n",
    "$$ y = Wx + b $$\n",
    "\n",
    "### Loss Function\n",
    "\n",
    "Compare the model's prediction with the true targets, then adjust the weights to minimize the error.\n",
    "\n",
    "$$ MSE = \\frac{1}{N}\\sum_{i=1}^{N}(Y-Y')^2 $$\n",
    "\n",
    "### Gradient\n",
    "\n",
    "The gradient is a vector that points in the direction of the steepest increase of the decision surface. Another way to view it, it as the slope of the loss surface at a given point.\n",
    "\n",
    "### Adjust the weights\n",
    "\n",
    "The weights of the model are then updated using the calculated gradients. Update in the opsite direction of the steepest increase so the loss function is minimized.\n",
    "\n",
    "$$ W_i = W_i - \\alpha\\Delta{W_i}  $$\n",
    "$$ b_i = b_i - \\alpha\\Delta{b_i}  $$"
   ]
  },
  {
   "cell_type": "code",
   "execution_count": 37,
   "metadata": {},
   "outputs": [
    {
     "name": "stdout",
     "output_type": "stream",
     "text": [
      "---Input Tensor---\n",
      "tensor([[ 73.,  67.,  43.],\n",
      "        [ 91.,  88.,  64.],\n",
      "        [ 87., 134.,  58.],\n",
      "        [102.,  43.,  37.],\n",
      "        [ 69.,  96.,  70.]])\n",
      "\n",
      "---Target Tensor---\n",
      "tensor([[ 56.,  70.],\n",
      "        [ 81., 101.],\n",
      "        [119., 133.],\n",
      "        [ 22.,  37.],\n",
      "        [103., 119.]])\n"
     ]
    },
    {
     "data": {
      "text/html": [
       "<div>\n",
       "<style scoped>\n",
       "    .dataframe tbody tr th:only-of-type {\n",
       "        vertical-align: middle;\n",
       "    }\n",
       "\n",
       "    .dataframe tbody tr th {\n",
       "        vertical-align: top;\n",
       "    }\n",
       "\n",
       "    .dataframe thead tr th {\n",
       "        text-align: left;\n",
       "    }\n",
       "</style>\n",
       "<table border=\"1\" class=\"dataframe\">\n",
       "  <thead>\n",
       "    <tr>\n",
       "      <th></th>\n",
       "      <th>Temperature</th>\n",
       "      <th>Rainfall</th>\n",
       "      <th>Humidity</th>\n",
       "      <th>Apples</th>\n",
       "      <th>Oranges</th>\n",
       "    </tr>\n",
       "  </thead>\n",
       "  <tbody>\n",
       "    <tr>\n",
       "      <th>0</th>\n",
       "      <td>73.0</td>\n",
       "      <td>67.0</td>\n",
       "      <td>43.0</td>\n",
       "      <td>56.0</td>\n",
       "      <td>70.0</td>\n",
       "    </tr>\n",
       "    <tr>\n",
       "      <th>1</th>\n",
       "      <td>91.0</td>\n",
       "      <td>88.0</td>\n",
       "      <td>64.0</td>\n",
       "      <td>81.0</td>\n",
       "      <td>101.0</td>\n",
       "    </tr>\n",
       "    <tr>\n",
       "      <th>2</th>\n",
       "      <td>87.0</td>\n",
       "      <td>134.0</td>\n",
       "      <td>58.0</td>\n",
       "      <td>119.0</td>\n",
       "      <td>133.0</td>\n",
       "    </tr>\n",
       "    <tr>\n",
       "      <th>3</th>\n",
       "      <td>102.0</td>\n",
       "      <td>43.0</td>\n",
       "      <td>37.0</td>\n",
       "      <td>22.0</td>\n",
       "      <td>37.0</td>\n",
       "    </tr>\n",
       "    <tr>\n",
       "      <th>4</th>\n",
       "      <td>69.0</td>\n",
       "      <td>96.0</td>\n",
       "      <td>70.0</td>\n",
       "      <td>103.0</td>\n",
       "      <td>119.0</td>\n",
       "    </tr>\n",
       "  </tbody>\n",
       "</table>\n",
       "</div>"
      ],
      "text/plain": [
       "  Temperature Rainfall Humidity Apples Oranges\n",
       "0        73.0     67.0     43.0   56.0    70.0\n",
       "1        91.0     88.0     64.0   81.0   101.0\n",
       "2        87.0    134.0     58.0  119.0   133.0\n",
       "3       102.0     43.0     37.0   22.0    37.0\n",
       "4        69.0     96.0     70.0  103.0   119.0"
      ]
     },
     "execution_count": 37,
     "metadata": {},
     "output_type": "execute_result"
    }
   ],
   "source": [
    "# Input (temp, rainfall, humidity)\n",
    "INPUTS = ['Temperature', 'Rainfall', 'Humidity']\n",
    "inputs = np.array([[73, 67, 43], \n",
    "                   [91, 88, 64], \n",
    "                   [87, 134, 58], \n",
    "                   [102, 43, 37], \n",
    "                   [69, 96, 70]], dtype='float32')\n",
    "inputT = torch.from_numpy(inputs)\n",
    "print(f'---Input Tensor---\\n{inputT}\\n')\n",
    "\n",
    "# Targets (apples, oranges)\n",
    "TARGETS = ['Apples', 'Oranges']\n",
    "targets = np.array([[56, 70], \n",
    "                    [81, 101], \n",
    "                    [119, 133], \n",
    "                    [22, 37], \n",
    "                    [103, 119]], dtype='float32')\n",
    "targetT = torch.from_numpy(targets)\n",
    "print(f'---Target Tensor---\\n{targetT}')\n",
    "      \n",
    "# Dataframe for the training data\n",
    "df = pd.DataFrame(np.concatenate((inputs, targets), axis=1), columns=[INPUTS+TARGETS])\n",
    "df"
   ]
  },
  {
   "cell_type": "code",
   "execution_count": 122,
   "metadata": {},
   "outputs": [],
   "source": [
    "# Linear Regression Model\n",
    "class LinearReg():\n",
    "    debug = True\n",
    "    def __init__(self, features, outputs):\n",
    "        self.W = torch.randn((len(outputs), len(features)), requires_grad=True)\n",
    "        self.b = torch.randn((len(outputs),), requires_grad=True)\n",
    "    def predict(self, x):\n",
    "        #y = x@self.W.t() + self.b\n",
    "        print(self.W.shape)\n",
    "        print(x.shape)\n",
    "        print(self.b.shape)\n",
    "        y = self.W@x.t() + self.b\n",
    "        return y\n",
    "    def mse(self, y, yh):\n",
    "        error = y - yh\n",
    "        return torch.sum(torch.square(error))/error.numel()\n",
    "    def fit(self, x, y, epochs, lr=5e-3):\n",
    "        # List for each epoch loss\n",
    "        L = []\n",
    "        for e in range(epochs):\n",
    "             #for xi, yi in zip(x, y):\n",
    "                #print(f'xi={xi}') \n",
    "                #print(f'yi={yi}') \n",
    "            # Make predictions\n",
    "            yh = self.predict(x)\n",
    "            print(f'yh = {yh}')\n",
    "            # Compute the loss\n",
    "            loss = self.mse(y, yh)\n",
    "            #print(f'loss = {loss}')\n",
    "            #L.append(loss)\n",
    "            # Compute the gradient\n",
    "            loss.backward()\n",
    "            # Update the parameters\n",
    "            # This way, the gradients are not modified\n",
    "            with torch.no_grad():                              \n",
    "                self.W -= self.W.grad * lr\n",
    "                self.b -= self.b.grad * lr\n",
    "                self.W.grad.zero_()\n",
    "                self.b.grad.zero_()\n",
    "        return np.array(L)"
   ]
  },
  {
   "cell_type": "code",
   "execution_count": 123,
   "metadata": {},
   "outputs": [
    {
     "name": "stdout",
     "output_type": "stream",
     "text": [
      "Weights:\n",
      "tensor([[ 1.0862, -0.7111, -0.4393],\n",
      "        [-0.0042,  1.8993,  0.8857]], requires_grad=True)\n",
      "Bias:\n",
      "tensor([-0.5391, -1.0671], requires_grad=True)\n",
      "torch.Size([2, 3])\n",
      "torch.Size([5, 3])\n",
      "torch.Size([2])\n"
     ]
    },
    {
     "ename": "RuntimeError",
     "evalue": "The size of tensor a (5) must match the size of tensor b (2) at non-singleton dimension 1",
     "output_type": "error",
     "traceback": [
      "\u001b[0;31m---------------------------------------------------------------------------\u001b[0m",
      "\u001b[0;31mRuntimeError\u001b[0m                              Traceback (most recent call last)",
      "\u001b[0;32m<ipython-input-123-398e9a486b41>\u001b[0m in \u001b[0;36m<module>\u001b[0;34m\u001b[0m\n\u001b[1;32m      5\u001b[0m \u001b[0;34m\u001b[0m\u001b[0m\n\u001b[1;32m      6\u001b[0m \u001b[0;31m# Training the model\u001b[0m\u001b[0;34m\u001b[0m\u001b[0;34m\u001b[0m\u001b[0;34m\u001b[0m\u001b[0m\n\u001b[0;32m----> 7\u001b[0;31m \u001b[0mLoss\u001b[0m \u001b[0;34m=\u001b[0m \u001b[0mlinear_model\u001b[0m\u001b[0;34m.\u001b[0m\u001b[0mfit\u001b[0m\u001b[0;34m(\u001b[0m\u001b[0minputT\u001b[0m\u001b[0;34m,\u001b[0m \u001b[0mtargetT\u001b[0m\u001b[0;34m,\u001b[0m \u001b[0;36m100\u001b[0m\u001b[0;34m)\u001b[0m\u001b[0;34m\u001b[0m\u001b[0;34m\u001b[0m\u001b[0m\n\u001b[0m",
      "\u001b[0;32m<ipython-input-122-df6194730ca8>\u001b[0m in \u001b[0;36mfit\u001b[0;34m(self, x, y, epochs, lr)\u001b[0m\n\u001b[1;32m     23\u001b[0m                 \u001b[0;31m#print(f'yi={yi}')\u001b[0m\u001b[0;34m\u001b[0m\u001b[0;34m\u001b[0m\u001b[0;34m\u001b[0m\u001b[0m\n\u001b[1;32m     24\u001b[0m             \u001b[0;31m# Make predictions\u001b[0m\u001b[0;34m\u001b[0m\u001b[0;34m\u001b[0m\u001b[0;34m\u001b[0m\u001b[0m\n\u001b[0;32m---> 25\u001b[0;31m             \u001b[0myh\u001b[0m \u001b[0;34m=\u001b[0m \u001b[0mself\u001b[0m\u001b[0;34m.\u001b[0m\u001b[0mpredict\u001b[0m\u001b[0;34m(\u001b[0m\u001b[0mx\u001b[0m\u001b[0;34m)\u001b[0m\u001b[0;34m\u001b[0m\u001b[0;34m\u001b[0m\u001b[0m\n\u001b[0m\u001b[1;32m     26\u001b[0m             \u001b[0mprint\u001b[0m\u001b[0;34m(\u001b[0m\u001b[0;34mf'yh = {yh}'\u001b[0m\u001b[0;34m)\u001b[0m\u001b[0;34m\u001b[0m\u001b[0;34m\u001b[0m\u001b[0m\n\u001b[1;32m     27\u001b[0m             \u001b[0;31m# Compute the loss\u001b[0m\u001b[0;34m\u001b[0m\u001b[0;34m\u001b[0m\u001b[0;34m\u001b[0m\u001b[0m\n",
      "\u001b[0;32m<ipython-input-122-df6194730ca8>\u001b[0m in \u001b[0;36mpredict\u001b[0;34m(self, x)\u001b[0m\n\u001b[1;32m     10\u001b[0m         \u001b[0mprint\u001b[0m\u001b[0;34m(\u001b[0m\u001b[0mx\u001b[0m\u001b[0;34m.\u001b[0m\u001b[0mshape\u001b[0m\u001b[0;34m)\u001b[0m\u001b[0;34m\u001b[0m\u001b[0;34m\u001b[0m\u001b[0m\n\u001b[1;32m     11\u001b[0m         \u001b[0mprint\u001b[0m\u001b[0;34m(\u001b[0m\u001b[0mself\u001b[0m\u001b[0;34m.\u001b[0m\u001b[0mb\u001b[0m\u001b[0;34m.\u001b[0m\u001b[0mshape\u001b[0m\u001b[0;34m)\u001b[0m\u001b[0;34m\u001b[0m\u001b[0;34m\u001b[0m\u001b[0m\n\u001b[0;32m---> 12\u001b[0;31m         \u001b[0my\u001b[0m \u001b[0;34m=\u001b[0m \u001b[0mself\u001b[0m\u001b[0;34m.\u001b[0m\u001b[0mW\u001b[0m\u001b[0;34m@\u001b[0m\u001b[0mx\u001b[0m\u001b[0;34m.\u001b[0m\u001b[0mt\u001b[0m\u001b[0;34m(\u001b[0m\u001b[0;34m)\u001b[0m \u001b[0;34m+\u001b[0m \u001b[0mself\u001b[0m\u001b[0;34m.\u001b[0m\u001b[0mb\u001b[0m\u001b[0;34m\u001b[0m\u001b[0;34m\u001b[0m\u001b[0m\n\u001b[0m\u001b[1;32m     13\u001b[0m         \u001b[0;32mreturn\u001b[0m \u001b[0my\u001b[0m\u001b[0;34m\u001b[0m\u001b[0;34m\u001b[0m\u001b[0m\n\u001b[1;32m     14\u001b[0m     \u001b[0;32mdef\u001b[0m \u001b[0mmse\u001b[0m\u001b[0;34m(\u001b[0m\u001b[0mself\u001b[0m\u001b[0;34m,\u001b[0m \u001b[0my\u001b[0m\u001b[0;34m,\u001b[0m \u001b[0myh\u001b[0m\u001b[0;34m)\u001b[0m\u001b[0;34m:\u001b[0m\u001b[0;34m\u001b[0m\u001b[0;34m\u001b[0m\u001b[0m\n",
      "\u001b[0;31mRuntimeError\u001b[0m: The size of tensor a (5) must match the size of tensor b (2) at non-singleton dimension 1"
     ]
    }
   ],
   "source": [
    "# Instance of the model\n",
    "linear_model = LinearReg(INPUTS, TARGETS)\n",
    "print(f'Weights:\\n{linear_model.W}')\n",
    "print(f'Bias:\\n{linear_model.b}')\n",
    "\n",
    "# Training the model\n",
    "Loss = linear_model.fit(inputT, targetT, 100)"
   ]
  },
  {
   "cell_type": "code",
   "execution_count": 52,
   "metadata": {},
   "outputs": [
    {
     "data": {
      "text/plain": [
       "tensor(9)"
      ]
     },
     "execution_count": 52,
     "metadata": {},
     "output_type": "execute_result"
    }
   ],
   "source": []
  }
 ],
 "metadata": {
  "kernelspec": {
   "display_name": "TorchEnv",
   "language": "python",
   "name": "torchenv"
  },
  "language_info": {
   "codemirror_mode": {
    "name": "ipython",
    "version": 3
   },
   "file_extension": ".py",
   "mimetype": "text/x-python",
   "name": "python",
   "nbconvert_exporter": "python",
   "pygments_lexer": "ipython3",
   "version": "3.7.6"
  }
 },
 "nbformat": 4,
 "nbformat_minor": 4
}
